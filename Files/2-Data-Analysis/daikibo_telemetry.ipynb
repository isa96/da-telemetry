{
 "cells": [
  {
   "attachments": {},
   "cell_type": "markdown",
   "metadata": {},
   "source": [
    "# **Telemetry**\n",
    "---"
   ]
  },
  {
   "attachments": {},
   "cell_type": "markdown",
   "metadata": {},
   "source": [
    "# Import Library"
   ]
  },
  {
   "cell_type": "code",
   "execution_count": 1,
   "metadata": {},
   "outputs": [],
   "source": [
    "# Data manipulation\n",
    "import numpy as np\n",
    "import pandas as pd\n",
    "import datetime as dt\n",
    "\n",
    "# Data visualization\n",
    "import matplotlib as mpl\n",
    "import matplotlib.pyplot as plt\n",
    "import seaborn as sns\n",
    "\n",
    "import warnings\n",
    "warnings.filterwarnings('ignore')"
   ]
  },
  {
   "cell_type": "code",
   "execution_count": 2,
   "metadata": {},
   "outputs": [],
   "source": [
    "pd.set_option('display.max_columns', None)\n",
    "pd.set_option('display.max_rows', None)"
   ]
  },
  {
   "attachments": {},
   "cell_type": "markdown",
   "metadata": {},
   "source": [
    "# Read Data"
   ]
  },
  {
   "cell_type": "code",
   "execution_count": 3,
   "metadata": {},
   "outputs": [],
   "source": [
    "# Read data\n",
    "url = 'https://raw.githubusercontent.com/sabirinID/Deloitte-Technology-Virtual-Internship/main/Dataset/daikibo-telemetry-data.json'\n",
    "df = pd.read_json(url)"
   ]
  },
  {
   "cell_type": "code",
   "execution_count": 4,
   "metadata": {},
   "outputs": [
    {
     "data": {
      "text/html": [
       "<div>\n",
       "<style scoped>\n",
       "    .dataframe tbody tr th:only-of-type {\n",
       "        vertical-align: middle;\n",
       "    }\n",
       "\n",
       "    .dataframe tbody tr th {\n",
       "        vertical-align: top;\n",
       "    }\n",
       "\n",
       "    .dataframe thead th {\n",
       "        text-align: right;\n",
       "    }\n",
       "</style>\n",
       "<table border=\"1\" class=\"dataframe\">\n",
       "  <thead>\n",
       "    <tr style=\"text-align: right;\">\n",
       "      <th></th>\n",
       "      <th>deviceID</th>\n",
       "      <th>deviceType</th>\n",
       "      <th>timestamp</th>\n",
       "      <th>location</th>\n",
       "      <th>data</th>\n",
       "    </tr>\n",
       "  </thead>\n",
       "  <tbody>\n",
       "    <tr>\n",
       "      <th>105156</th>\n",
       "      <td>a2d3aab1-f1c5-4dcf-8fc4-324d5d0154bc</td>\n",
       "      <td>LaserCutter</td>\n",
       "      <td>2021-05-02 03:00:00</td>\n",
       "      <td>{'country': 'germany', 'city': 'berlin', 'area...</td>\n",
       "      <td>{'status': 'healthy', 'temperature': 23}</td>\n",
       "    </tr>\n",
       "    <tr>\n",
       "      <th>49993</th>\n",
       "      <td>2b082625-53be-4298-a6f2-c7cd72332eee</td>\n",
       "      <td>MetalPress</td>\n",
       "      <td>2021-05-06 01:10:00</td>\n",
       "      <td>{'country': 'japan', 'city': 'osaka', 'area': ...</td>\n",
       "      <td>{'status': 'healthy', 'temperature': 27}</td>\n",
       "    </tr>\n",
       "    <tr>\n",
       "      <th>93909</th>\n",
       "      <td>e2c13b90-6648-42c6-8395-958d077e6819</td>\n",
       "      <td>LaserWelder</td>\n",
       "      <td>2021-05-05 00:30:00</td>\n",
       "      <td>{'country': 'germany', 'city': 'berlin', 'area...</td>\n",
       "      <td>{'status': 'healthy', 'temperature': 23}</td>\n",
       "    </tr>\n",
       "    <tr>\n",
       "      <th>35456</th>\n",
       "      <td>db9b815d-b522-4bf7-8320-4e3936ed9164</td>\n",
       "      <td>SpotWelder</td>\n",
       "      <td>2021-05-04 02:20:00</td>\n",
       "      <td>{'country': 'japan', 'city': 'tokyo', 'area': ...</td>\n",
       "      <td>{'status': 'healthy', 'temperature': 25}</td>\n",
       "    </tr>\n",
       "    <tr>\n",
       "      <th>133162</th>\n",
       "      <td>31e71b60-32f8-4ff5-a0c2-8e0d24737595</td>\n",
       "      <td>Furnace</td>\n",
       "      <td>2021-05-07 14:40:00</td>\n",
       "      <td>{'country': 'china', 'city': 'shenzhen', 'area...</td>\n",
       "      <td>{'status': 'healthy', 'temperature': 25}</td>\n",
       "    </tr>\n",
       "  </tbody>\n",
       "</table>\n",
       "</div>"
      ],
      "text/plain": [
       "                                    deviceID   deviceType           timestamp   \n",
       "105156  a2d3aab1-f1c5-4dcf-8fc4-324d5d0154bc  LaserCutter 2021-05-02 03:00:00  \\\n",
       "49993   2b082625-53be-4298-a6f2-c7cd72332eee   MetalPress 2021-05-06 01:10:00   \n",
       "93909   e2c13b90-6648-42c6-8395-958d077e6819  LaserWelder 2021-05-05 00:30:00   \n",
       "35456   db9b815d-b522-4bf7-8320-4e3936ed9164   SpotWelder 2021-05-04 02:20:00   \n",
       "133162  31e71b60-32f8-4ff5-a0c2-8e0d24737595      Furnace 2021-05-07 14:40:00   \n",
       "\n",
       "                                                 location   \n",
       "105156  {'country': 'germany', 'city': 'berlin', 'area...  \\\n",
       "49993   {'country': 'japan', 'city': 'osaka', 'area': ...   \n",
       "93909   {'country': 'germany', 'city': 'berlin', 'area...   \n",
       "35456   {'country': 'japan', 'city': 'tokyo', 'area': ...   \n",
       "133162  {'country': 'china', 'city': 'shenzhen', 'area...   \n",
       "\n",
       "                                            data  \n",
       "105156  {'status': 'healthy', 'temperature': 23}  \n",
       "49993   {'status': 'healthy', 'temperature': 27}  \n",
       "93909   {'status': 'healthy', 'temperature': 23}  \n",
       "35456   {'status': 'healthy', 'temperature': 25}  \n",
       "133162  {'status': 'healthy', 'temperature': 25}  "
      ]
     },
     "execution_count": 4,
     "metadata": {},
     "output_type": "execute_result"
    }
   ],
   "source": [
    "df.sample(5)"
   ]
  },
  {
   "attachments": {},
   "cell_type": "markdown",
   "metadata": {},
   "source": [
    "# Data Understanding"
   ]
  },
  {
   "attachments": {},
   "cell_type": "markdown",
   "metadata": {},
   "source": [
    "## Features Definition"
   ]
  },
  {
   "attachments": {},
   "cell_type": "markdown",
   "metadata": {},
   "source": [
    "| Nama Fitur                         | Deskripsi Fitur                                 |\n",
    "|------------------------------------|-------------------------------------------------|\n",
    "| | |"
   ]
  },
  {
   "attachments": {},
   "cell_type": "markdown",
   "metadata": {},
   "source": [
    "## Dimensions of the DataFrame"
   ]
  },
  {
   "cell_type": "code",
   "execution_count": 5,
   "metadata": {},
   "outputs": [
    {
     "data": {
      "text/plain": [
       "(160704, 5)"
      ]
     },
     "execution_count": 5,
     "metadata": {},
     "output_type": "execute_result"
    }
   ],
   "source": [
    "df.shape"
   ]
  },
  {
   "cell_type": "code",
   "execution_count": 6,
   "metadata": {},
   "outputs": [
    {
     "name": "stdout",
     "output_type": "stream",
     "text": [
      "Dataset ini memiliki dimensi data, yaitu\n",
      "Jumlah baris: 160704\n",
      "Jumlah kolom: 5\n"
     ]
    }
   ],
   "source": [
    "print('Dataset ini memiliki dimensi data, yaitu')\n",
    "print('Jumlah baris: {}'.format(df.shape[0]))\n",
    "print('Jumlah kolom: {}'.format(df.shape[1]))"
   ]
  },
  {
   "attachments": {},
   "cell_type": "markdown",
   "metadata": {},
   "source": [
    "## Data Types of the Features"
   ]
  },
  {
   "cell_type": "code",
   "execution_count": 7,
   "metadata": {},
   "outputs": [
    {
     "name": "stdout",
     "output_type": "stream",
     "text": [
      "<class 'pandas.core.frame.DataFrame'>\n",
      "RangeIndex: 160704 entries, 0 to 160703\n",
      "Data columns (total 5 columns):\n",
      " #   Column      Non-Null Count   Dtype         \n",
      "---  ------      --------------   -----         \n",
      " 0   deviceID    160704 non-null  object        \n",
      " 1   deviceType  160704 non-null  object        \n",
      " 2   timestamp   160704 non-null  datetime64[ns]\n",
      " 3   location    160704 non-null  object        \n",
      " 4   data        160704 non-null  object        \n",
      "dtypes: datetime64[ns](1), object(4)\n",
      "memory usage: 6.1+ MB\n"
     ]
    }
   ],
   "source": [
    "# Data information\n",
    "df.info()"
   ]
  },
  {
   "attachments": {},
   "cell_type": "markdown",
   "metadata": {},
   "source": [
    "🔎 Observasi\n",
    "- XXX"
   ]
  },
  {
   "attachments": {},
   "cell_type": "markdown",
   "metadata": {},
   "source": []
  }
 ],
 "metadata": {
  "kernelspec": {
   "display_name": "base",
   "language": "python",
   "name": "python3"
  },
  "language_info": {
   "codemirror_mode": {
    "name": "ipython",
    "version": 3
   },
   "file_extension": ".py",
   "mimetype": "text/x-python",
   "name": "python",
   "nbconvert_exporter": "python",
   "pygments_lexer": "ipython3",
   "version": "3.10.9"
  },
  "orig_nbformat": 4
 },
 "nbformat": 4,
 "nbformat_minor": 2
}
